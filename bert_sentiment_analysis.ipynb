{
 "cells": [
  {
   "cell_type": "markdown",
   "id": "4d1ef3bc",
   "metadata": {},
   "source": [
    "# BERT Sentiment Analysis\n",
    "This notebook demonstrates sentiment analysis using BERT to classify movie reviews as positive or negative, as discussed in my Medium blog. It uses Hugging Face’s `transformers` library and shows BERT’s input representation (`[CLS]`, `[SEP]`)."
   ]
  },
  {
   "cell_type": "code",
   "execution_count": 4,
   "id": "333107ba",
   "metadata": {},
   "outputs": [],
   "source": [
    "import torch\n",
    "from transformers import BertTokenizer, BertForSequenceClassification"
   ]
  },
  {
   "cell_type": "markdown",
   "id": "a9ec1455",
   "metadata": {},
   "source": [
    "Load Pre-trained BERT Model and Tokenizer\n",
    "We use `bert-base-uncased` (110M parameters) with 2 labels for binary classification (positive/negative)."
   ]
  },
  {
   "cell_type": "code",
   "execution_count": 5,
   "id": "69c1ef8c",
   "metadata": {},
   "outputs": [
    {
     "data": {
      "application/vnd.jupyter.widget-view+json": {
       "model_id": "e2ad70bcd76d47b9a1c32edbf1256f5f",
       "version_major": 2,
       "version_minor": 0
      },
      "text/plain": [
       "tokenizer_config.json:   0%|          | 0.00/48.0 [00:00<?, ?B/s]"
      ]
     },
     "metadata": {},
     "output_type": "display_data"
    },
    {
     "data": {
      "application/vnd.jupyter.widget-view+json": {
       "model_id": "6782f81cdb934611b632fbc161b50987",
       "version_major": 2,
       "version_minor": 0
      },
      "text/plain": [
       "vocab.txt:   0%|          | 0.00/232k [00:00<?, ?B/s]"
      ]
     },
     "metadata": {},
     "output_type": "display_data"
    },
    {
     "data": {
      "application/vnd.jupyter.widget-view+json": {
       "model_id": "398acd4dbb034f2982292534d4defe2d",
       "version_major": 2,
       "version_minor": 0
      },
      "text/plain": [
       "tokenizer.json:   0%|          | 0.00/466k [00:00<?, ?B/s]"
      ]
     },
     "metadata": {},
     "output_type": "display_data"
    },
    {
     "data": {
      "application/vnd.jupyter.widget-view+json": {
       "model_id": "729b5292cd9b44f2ba4dfafb2bbc47e9",
       "version_major": 2,
       "version_minor": 0
      },
      "text/plain": [
       "config.json:   0%|          | 0.00/570 [00:00<?, ?B/s]"
      ]
     },
     "metadata": {},
     "output_type": "display_data"
    },
    {
     "data": {
      "application/vnd.jupyter.widget-view+json": {
       "model_id": "537d2c5401e94646a3f565315adf5495",
       "version_major": 2,
       "version_minor": 0
      },
      "text/plain": [
       "model.safetensors:   0%|          | 0.00/440M [00:00<?, ?B/s]"
      ]
     },
     "metadata": {},
     "output_type": "display_data"
    },
    {
     "name": "stderr",
     "output_type": "stream",
     "text": [
      "Some weights of BertForSequenceClassification were not initialized from the model checkpoint at bert-base-uncased and are newly initialized: ['classifier.bias', 'classifier.weight']\n",
      "You should probably TRAIN this model on a down-stream task to be able to use it for predictions and inference.\n"
     ]
    }
   ],
   "source": [
    "model_name = \"bert-base-uncased\"\n",
    "tokenizer = BertTokenizer.from_pretrained(model_name)\n",
    "model = BertForSequenceClassification.from_pretrained(model_name,num_labels=2)\n"
   ]
  },
  {
   "cell_type": "code",
   "execution_count": 9,
   "id": "54fa071a",
   "metadata": {},
   "outputs": [],
   "source": [
    "#tokenizing the input text\n",
    "\n",
    "text = \"This movie was absolutely fantastic!\"\n",
    "inputs = tokenizer(text, return_tensors=\"pt\", padding=True, truncation=  True, max_length=128)"
   ]
  },
  {
   "cell_type": "markdown",
   "id": "35589838",
   "metadata": {},
   "source": [
    "Predict Sentiment\n",
    "Run inference in evaluation mode to predict if the review is positive or negative"
   ]
  },
  {
   "cell_type": "code",
   "execution_count": 10,
   "id": "dba12321",
   "metadata": {},
   "outputs": [],
   "source": [
    "model.eval()\n",
    "with torch.no_grad():\n",
    "    outputs = model(**input)\n",
    "    logits = outputs.logits\n",
    "    predicted_class = torch.argmax(logits,dim=1).item()"
   ]
  },
  {
   "cell_type": "code",
   "execution_count": 11,
   "id": "f2dbc1f7",
   "metadata": {},
   "outputs": [
    {
     "name": "stdout",
     "output_type": "stream",
     "text": [
      "Input: This movie was absolutely fantastic!\n",
      "Predicted sentiment: Positive\n",
      "\n",
      "Input Representation:\n",
      "Tokens: ['[CLS]', 'this', 'movie', 'was', 'absolutely', 'fantastic', '!', '[SEP]']...\n",
      "Token Type IDs (segments): tensor([0, 0, 0, 0, 0, 0, 0, 0])...\n",
      "Attention Mask: tensor([1, 1, 1, 1, 1, 1, 1, 1])...\n"
     ]
    }
   ],
   "source": [
    "#output results\n",
    "labels = [\"Negative\", \"Positive\"]\n",
    "print(f\"Input: {text}\")\n",
    "print(f\"Predicted sentiment: {labels[predicted_class]}\")\n",
    "\n",
    "print(\"\\nInput Representation:\")\n",
    "print(f\"Tokens: {tokenizer.convert_ids_to_tokens(inputs['input_ids'][0])[:10]}...\")\n",
    "print(f\"Token Type IDs (segments): {inputs['token_type_ids'][0][:10]}...\")\n",
    "print(f\"Attention Mask: {inputs['attention_mask'][0][:10]}...\")\n"
   ]
  },
  {
   "cell_type": "markdown",
   "id": "8442824b",
   "metadata": {},
   "source": [
    "Test a negative review to see BERT’s flexibility."
   ]
  },
  {
   "cell_type": "code",
   "execution_count": 12,
   "id": "c191bce8",
   "metadata": {},
   "outputs": [
    {
     "name": "stdout",
     "output_type": "stream",
     "text": [
      "Input: This movie was terrible!\n",
      "Predicted sentiment: Positive\n"
     ]
    }
   ],
   "source": [
    "text_negative = \"This movie was terrible!\"\n",
    "inputs_negative = tokenizer(text_negative, return_tensors=\"pt\", padding=True, truncation=True, max_length=128)\n",
    "\n",
    "model.eval()\n",
    "with torch.no_grad():\n",
    "    outputs = model(**inputs_negative)\n",
    "    logits = outputs.logits\n",
    "    predicted_class = torch.argmax(logits, dim=1).item()\n",
    "\n",
    "print(f\"Input: {text_negative}\")\n",
    "print(f\"Predicted sentiment: {labels[predicted_class]}\")"
   ]
  },
  {
   "cell_type": "markdown",
   "id": "5c77ad03",
   "metadata": {},
   "source": [
    "The model predicts “Positive” because BERT’s bidirectional context understands “fantastic” in the sentence. The input representation shows `[CLS]`, `[SEP]`, and segment IDs, matching the blog’s visualization."
   ]
  }
 ],
 "metadata": {
  "kernelspec": {
   "display_name": "bert_env",
   "language": "python",
   "name": "python3"
  },
  "language_info": {
   "codemirror_mode": {
    "name": "ipython",
    "version": 3
   },
   "file_extension": ".py",
   "mimetype": "text/x-python",
   "name": "python",
   "nbconvert_exporter": "python",
   "pygments_lexer": "ipython3",
   "version": "3.11.9"
  }
 },
 "nbformat": 4,
 "nbformat_minor": 5
}
